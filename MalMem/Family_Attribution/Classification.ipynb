{
 "cells": [
  {
   "cell_type": "markdown",
   "id": "3e69534c",
   "metadata": {},
   "source": [
    "<h1>CNN</h1>"
   ]
  },
  {
   "cell_type": "code",
   "execution_count": 1,
   "id": "31a64063",
   "metadata": {},
   "outputs": [],
   "source": [
    "import seaborn as sn\n",
    "import matplotlib.pyplot as plt\n",
    "import pandas as pd"
   ]
  },
  {
   "cell_type": "code",
   "execution_count": 2,
   "id": "e8ab830d",
   "metadata": {},
   "outputs": [],
   "source": [
    "data = pd.read_csv('Obfuscated-MalMem2022-classification.csv')"
   ]
  },
  {
   "cell_type": "code",
   "execution_count": 65,
   "id": "f333a39a",
   "metadata": {},
   "outputs": [
    {
     "name": "stdout",
     "output_type": "stream",
     "text": [
      "Index(['pslist.nproc', 'pslist.nppid', 'pslist.avg_threads',\n",
      "       'pslist.nprocs64bit', 'pslist.avg_handlers', 'dlllist.ndlls',\n",
      "       'dlllist.avg_dlls_per_proc', 'handles.nhandles',\n",
      "       'handles.avg_handles_per_proc', 'handles.nport', 'handles.nfile',\n",
      "       'handles.nevent', 'handles.ndesktop', 'handles.nkey', 'handles.nthread',\n",
      "       'handles.ndirectory', 'handles.nsemaphore', 'handles.ntimer',\n",
      "       'handles.nsection', 'handles.nmutant', 'ldrmodules.not_in_load',\n",
      "       'ldrmodules.not_in_init', 'ldrmodules.not_in_mem',\n",
      "       'ldrmodules.not_in_load_avg', 'ldrmodules.not_in_init_avg',\n",
      "       'ldrmodules.not_in_mem_avg', 'malfind.ninjections',\n",
      "       'malfind.commitCharge', 'malfind.protection',\n",
      "       'malfind.uniqueInjections', 'psxview.not_in_pslist',\n",
      "       'psxview.not_in_eprocess_pool', 'psxview.not_in_ethread_pool',\n",
      "       'psxview.not_in_pspcid_list', 'psxview.not_in_csrss_handles',\n",
      "       'psxview.not_in_session', 'psxview.not_in_deskthrd',\n",
      "       'psxview.not_in_pslist_false_avg',\n",
      "       'psxview.not_in_eprocess_pool_false_avg',\n",
      "       'psxview.not_in_ethread_pool_false_avg',\n",
      "       'psxview.not_in_pspcid_list_false_avg',\n",
      "       'psxview.not_in_csrss_handles_false_avg',\n",
      "       'psxview.not_in_session_false_avg', 'psxview.not_in_deskthrd_false_avg',\n",
      "       'modules.nmodules', 'svcscan.nservices', 'svcscan.kernel_drivers',\n",
      "       'svcscan.fs_drivers', 'svcscan.process_services',\n",
      "       'svcscan.shared_process_services',\n",
      "       'svcscan.interactive_process_services', 'svcscan.nactive',\n",
      "       'callbacks.ncallbacks', 'callbacks.nanonymous', 'callbacks.ngeneric',\n",
      "       'Class', 'Category', 'Family'],\n",
      "      dtype='object')\n"
     ]
    }
   ],
   "source": [
    "print(data.columns)"
   ]
  },
  {
   "cell_type": "code",
   "execution_count": 4,
   "id": "a120a2c8",
   "metadata": {},
   "outputs": [
    {
     "name": "stdout",
     "output_type": "stream",
     "text": [
      "Class        2\n",
      "Category     4\n",
      "Family      16\n",
      "dtype: int64\n"
     ]
    }
   ],
   "source": [
    "int_columns=data.select_dtypes(include='int')\n",
    "float_columns=data.select_dtypes(include='float')\n",
    "cat_columns=data.select_dtypes(include='object')\n",
    "print(cat_columns.nunique())"
   ]
  },
  {
   "cell_type": "code",
   "execution_count": 5,
   "id": "667d7e08",
   "metadata": {},
   "outputs": [
    {
     "name": "stdout",
     "output_type": "stream",
     "text": [
      "Class    Category    Family      \n",
      "Benign   Benign      Benign          14649\n",
      "Malware  Spyware     Transponder      2410\n",
      "                     Gator            2200\n",
      "         Ransomware  Shade            2128\n",
      "                     Ako              2000\n",
      "         Spyware     180solutions     2000\n",
      "                     CWS              2000\n",
      "         Trojan      Refroso          2000\n",
      "                     Scar             2000\n",
      "         Ransomware  Conti            1988\n",
      "         Trojan      Emotet           1967\n",
      "         Ransomware  Maze             1958\n",
      "         Trojan      Zeus             1950\n",
      "         Ransomware  Pysa             1717\n",
      "         Trojan      Reconyc          1570\n",
      "         Spyware     TIBS             1410\n",
      "dtype: int64\n"
     ]
    }
   ],
   "source": [
    "print(cat_columns.value_counts())"
   ]
  },
  {
   "cell_type": "code",
   "execution_count": 3,
   "id": "db6d77c5",
   "metadata": {},
   "outputs": [
    {
     "name": "stderr",
     "output_type": "stream",
     "text": [
      "C:\\Users\\H.A.R\\anaconda3\\lib\\site-packages\\seaborn\\_decorators.py:36: FutureWarning: Pass the following variable as a keyword arg: x. From version 0.12, the only valid positional argument will be `data`, and passing other arguments without an explicit keyword will result in an error or misinterpretation.\n",
      "  warnings.warn(\n"
     ]
    },
    {
     "data": {
      "image/png": "[encoded data removed]",
      "text/plain": [
       "<Figure size 640x480 with 1 Axes>"
      ]
     },
     "metadata": {},
     "output_type": "display_data"
    }
   ],
   "source": [
    "from sklearn.preprocessing import LabelEncoder\n",
    "lab=LabelEncoder()\n",
    "data['category']=lab.fit_transform(data['Category'])\n",
    "data['class']=lab.fit_transform(data['Class'])\n",
    "data['family']=lab.fit_transform(data['Family'])\n",
    "sn.countplot(data['category'])\n",
    "plt.show()"
   ]
  },
  {
   "cell_type": "code",
   "execution_count": 4,
   "id": "7270fc72",
   "metadata": {},
   "outputs": [
    {
     "name": "stdout",
     "output_type": "stream",
     "text": [
      "       category\n",
      "0             3\n",
      "1             1\n",
      "2             0\n",
      "3             0\n",
      "4             0\n",
      "...         ...\n",
      "43942         0\n",
      "43943         0\n",
      "43944         3\n",
      "43945         0\n",
      "43946         1\n",
      "\n",
      "[43947 rows x 1 columns]\n"
     ]
    }
   ],
   "source": [
    "x=data[['pslist.nproc', 'pslist.nppid', 'pslist.avg_threads', \n",
    "        'pslist.avg_handlers', 'dlllist.ndlls',\n",
    "       'dlllist.avg_dlls_per_proc', 'handles.nhandles',\n",
    "       'handles.avg_handles_per_proc', 'handles.nfile',\n",
    "       'handles.nevent', 'handles.ndesktop', 'handles.nkey', 'handles.nthread',\n",
    "       'handles.ndirectory', 'handles.nsemaphore', 'handles.ntimer',\n",
    "       'handles.nsection', 'handles.nmutant', 'ldrmodules.not_in_load',\n",
    "       'ldrmodules.not_in_init', 'ldrmodules.not_in_mem',\n",
    "       'ldrmodules.not_in_load_avg', 'ldrmodules.not_in_init_avg',\n",
    "       'ldrmodules.not_in_mem_avg', 'malfind.ninjections',\n",
    "       'malfind.commitCharge', 'malfind.protection',\n",
    "       'malfind.uniqueInjections', 'psxview.not_in_pslist',\n",
    "       'psxview.not_in_eprocess_pool', 'psxview.not_in_ethread_pool',\n",
    "       'psxview.not_in_pspcid_list', 'psxview.not_in_csrss_handles',\n",
    "       'psxview.not_in_session', 'psxview.not_in_deskthrd',\n",
    "       'psxview.not_in_pslist_false_avg',\n",
    "       'psxview.not_in_eprocess_pool_false_avg',\n",
    "       'psxview.not_in_ethread_pool_false_avg',\n",
    "       'psxview.not_in_pspcid_list_false_avg',\n",
    "       'psxview.not_in_csrss_handles_false_avg',\n",
    "       'psxview.not_in_session_false_avg', 'psxview.not_in_deskthrd_false_avg',\n",
    "       'modules.nmodules', 'svcscan.nservices', 'svcscan.kernel_drivers',\n",
    "       'svcscan.fs_drivers', 'svcscan.process_services',\n",
    "       'svcscan.shared_process_services',\n",
    "       'svcscan.nactive',\n",
    "       'callbacks.ncallbacks', 'callbacks.nanonymous', 'callbacks.ngeneric', 'class', 'family']]\n",
    "y=data[['category']]\n",
    "print(y) "
   ]
  },
  {
   "cell_type": "code",
   "execution_count": 5,
   "id": "d86174a8",
   "metadata": {},
   "outputs": [
    {
     "name": "stdout",
     "output_type": "stream",
     "text": [
      "   pslist.nproc  pslist.nppid  pslist.avg_threads  pslist.avg_handlers  \\\n",
      "0      0.077626      0.109375            0.555699             0.007233   \n",
      "1      0.077626      0.109375            0.529675             0.006791   \n",
      "2      0.100457      0.140625            0.613098             0.008809   \n",
      "3      0.086758      0.078125            0.779835             0.010637   \n",
      "4      0.095890      0.078125            0.734706             0.010179   \n",
      "\n",
      "   dlllist.ndlls  dlllist.avg_dlls_per_proc  handles.nhandles  \\\n",
      "0       0.295348                   0.695694          0.004440   \n",
      "1       0.283448                   0.676725          0.004040   \n",
      "2       0.437793                   0.796817          0.007078   \n",
      "3       0.496574                   0.949923          0.008167   \n",
      "4       0.516048                   0.912020          0.008422   \n",
      "\n",
      "   handles.avg_handles_per_proc  handles.nfile  handles.nevent  ...  \\\n",
      "0                      0.004250       0.000461        0.273318  ...   \n",
      "1                      0.003925       0.000466        0.248773  ...   \n",
      "2                      0.005589       0.000695        0.410627  ...   \n",
      "3                      0.006755       0.000978        0.469968  ...   \n",
      "4                      0.006418       0.001073        0.492203  ...   \n",
      "\n",
      "   svcscan.kernel_drivers  svcscan.fs_drivers  svcscan.process_services  \\\n",
      "0                0.994012                 1.0                      0.85   \n",
      "1                0.994012                 1.0                      0.85   \n",
      "2                1.000000                 1.0                      0.85   \n",
      "3                1.000000                 1.0                      1.00   \n",
      "4                1.000000                 1.0                      1.00   \n",
      "\n",
      "   svcscan.shared_process_services  svcscan.nactive  callbacks.ncallbacks  \\\n",
      "0                         0.978261         0.898990              0.923077   \n",
      "1                         0.978261         0.898990              0.923077   \n",
      "2                         1.000000         0.969697              0.948718   \n",
      "3                         1.000000         0.939394              0.974359   \n",
      "4                         1.000000         0.939394              0.974359   \n",
      "\n",
      "   callbacks.nanonymous  callbacks.ngeneric  class    family  \n",
      "0                   0.0                 1.0    1.0  0.733333  \n",
      "1                   0.0                 1.0    1.0  0.466667  \n",
      "2                   0.0                 1.0    0.0  0.133333  \n",
      "3                   0.0                 1.0    0.0  0.133333  \n",
      "4                   0.0                 1.0    0.0  0.133333  \n",
      "\n",
      "[5 rows x 54 columns]\n"
     ]
    }
   ],
   "source": [
    "from sklearn.preprocessing import MinMaxScaler\n",
    "# Initialize the Min-Max Scaler\n",
    "scaler = MinMaxScaler()\n",
    "\n",
    "# Fit and transform the features using Min-Max Scaling\n",
    "min_max_X_scaled = scaler.fit_transform(x)\n",
    "\n",
    "# Create a new DataFrame with the scaled features\n",
    "min_max_X_scaled_df = pd.DataFrame(min_max_X_scaled, columns=x.columns)\n",
    "\n",
    "# Display the first few rows of the scaled DataFrame\n",
    "print(min_max_X_scaled_df.head())"
   ]
  },
  {
   "cell_type": "code",
   "execution_count": 6,
   "id": "d7c9f335",
   "metadata": {},
   "outputs": [
    {
     "name": "stdout",
     "output_type": "stream",
     "text": [
      "(32960, 54)\n"
     ]
    }
   ],
   "source": [
    "x = min_max_X_scaled_df\n",
    "from sklearn.model_selection import train_test_split\n",
    "x_train,x_test,y_train,y_test=train_test_split(x,y)\n",
    "print(x_train.shape)"
   ]
  },
  {
   "cell_type": "code",
   "execution_count": 7,
   "id": "7c7d3bf9",
   "metadata": {},
   "outputs": [
    {
     "name": "stdout",
     "output_type": "stream",
     "text": [
      "Training target statistics: Counter({'category': 1})\n",
      "Testing target statistics: Counter({'category': 1})\n"
     ]
    }
   ],
   "source": [
    "from imblearn.over_sampling import RandomOverSampler\n",
    "from collections import Counter\n",
    "over_sampler = RandomOverSampler(random_state=42)\n",
    "X_res, y_res = over_sampler.fit_resample(x_train, y_train)\n",
    "print(f\"Training target statistics: {Counter(y_res)}\")\n",
    "print(f\"Testing target statistics: {Counter(y_test)}\")"
   ]
  },
  {
   "cell_type": "code",
   "execution_count": 8,
   "id": "9ba60b58",
   "metadata": {},
   "outputs": [
    {
     "data": {
      "text/plain": [
       "(44116, 54)"
      ]
     },
     "execution_count": 8,
     "metadata": {},
     "output_type": "execute_result"
    }
   ],
   "source": [
    "X_res.shape"
   ]
  },
  {
   "cell_type": "code",
   "execution_count": 9,
   "id": "2d596c29",
   "metadata": {},
   "outputs": [],
   "source": [
    "import numpy as np\n",
    "from tensorflow.keras.utils import to_categorical\n",
    "\n",
    "# Assuming 'y_train' and 'y_test' are the target labels for the training and testing sets, respectively\n",
    "\n",
    "# Perform one-hot encoding for the target labels\n",
    "num_classes = len(np.unique(y_res))  # Number of unique classes in the dataset\n",
    "y_train_encoded = to_categorical(y_res, num_classes)\n",
    "y_test_encoded = to_categorical(y_test, num_classes)"
   ]
  },
  {
   "cell_type": "code",
   "execution_count": 11,
   "id": "3b793b6b",
   "metadata": {},
   "outputs": [
    {
     "name": "stdout",
     "output_type": "stream",
     "text": [
      "Collecting xgboost\n",
      "  Downloading xgboost-2.0.0-py3-none-win_amd64.whl (99.7 MB)\n",
      "     -------------------------------------- 99.7/99.7 MB 599.5 kB/s eta 0:00:00\n",
      "Requirement already satisfied: numpy in c:\\users\\h.a.r\\anaconda3\\lib\\site-packages (from xgboost) (1.21.5)\n",
      "Requirement already satisfied: scipy in c:\\users\\h.a.r\\anaconda3\\lib\\site-packages (from xgboost) (1.9.1)\n",
      "Installing collected packages: xgboost\n",
      "Successfully installed xgboost-2.0.0\n",
      "Note: you may need to restart the kernel to use updated packages.\n"
     ]
    }
   ],
   "source": [
    "pip install xgboost"
   ]
  },
  {
   "cell_type": "code",
   "execution_count": 12,
   "id": "3fdf5e9d",
   "metadata": {},
   "outputs": [
    {
     "name": "stdout",
     "output_type": "stream",
     "text": [
      "Epoch 1/10\n",
      "1379/1379 [==============================] - 2s 1ms/step - loss: 0.7413 - accuracy: 0.6175 - val_loss: 0.5965 - val_accuracy: 0.6825\n",
      "Epoch 2/10\n",
      "1379/1379 [==============================] - 2s 1ms/step - loss: 0.6533 - accuracy: 0.6483 - val_loss: 0.5598 - val_accuracy: 0.7107\n",
      "Epoch 3/10\n",
      "1379/1379 [==============================] - 2s 1ms/step - loss: 0.5776 - accuracy: 0.6929 - val_loss: 0.4420 - val_accuracy: 0.8041\n",
      "Epoch 4/10\n",
      "1379/1379 [==============================] - 2s 1ms/step - loss: 0.3745 - accuracy: 0.8676 - val_loss: 0.2315 - val_accuracy: 0.9385\n",
      "Epoch 5/10\n",
      "1379/1379 [==============================] - 2s 1ms/step - loss: 0.2037 - accuracy: 0.9370 - val_loss: 0.1401 - val_accuracy: 0.9493\n",
      "Epoch 6/10\n",
      "1379/1379 [==============================] - 2s 1ms/step - loss: 0.1165 - accuracy: 0.9655 - val_loss: 0.0722 - val_accuracy: 0.9879\n",
      "Epoch 7/10\n",
      "1379/1379 [==============================] - 2s 1ms/step - loss: 0.0620 - accuracy: 0.9928 - val_loss: 0.0342 - val_accuracy: 0.9985\n",
      "Epoch 8/10\n",
      "1379/1379 [==============================] - 2s 2ms/step - loss: 0.0307 - accuracy: 0.9981 - val_loss: 0.0222 - val_accuracy: 0.9988\n",
      "Epoch 9/10\n",
      "1379/1379 [==============================] - 2s 1ms/step - loss: 0.0131 - accuracy: 0.9993 - val_loss: 0.0101 - val_accuracy: 0.9993\n",
      "Epoch 10/10\n",
      "1379/1379 [==============================] - 2s 1ms/step - loss: 0.0229 - accuracy: 0.9950 - val_loss: 0.0079 - val_accuracy: 0.9997\n",
      "[[3620    0    0    0]\n",
      " [   0 2447    0    0]\n",
      " [   0    0 2490    0]\n",
      " [   0    0    0 2430]]\n",
      "Accuracy: 1.0\n"
     ]
    },
    {
     "ename": "ModuleNotFoundError",
     "evalue": "No module named 'lightgbm'",
     "output_type": "error",
     "traceback": [
      "\u001b[1;31m---------------------------------------------------------------------------\u001b[0m",
      "\u001b[1;31mModuleNotFoundError\u001b[0m                       Traceback (most recent call last)",
      "\u001b[1;32m~\\AppData\\Local\\Temp\\ipykernel_2236\\3678196868.py\u001b[0m in \u001b[0;36m<module>\u001b[1;34m\u001b[0m\n\u001b[0;32m     49\u001b[0m \u001b[1;33m\u001b[0m\u001b[0m\n\u001b[0;32m     50\u001b[0m \u001b[1;33m\u001b[0m\u001b[0m\n\u001b[1;32m---> 51\u001b[1;33m \u001b[1;32mimport\u001b[0m \u001b[0mlightgbm\u001b[0m \u001b[1;32mas\u001b[0m \u001b[0mlgb\u001b[0m\u001b[1;33m\u001b[0m\u001b[1;33m\u001b[0m\u001b[0m\n\u001b[0m\u001b[0;32m     52\u001b[0m \u001b[1;32mfrom\u001b[0m \u001b[0msklearn\u001b[0m\u001b[1;33m.\u001b[0m\u001b[0mmetrics\u001b[0m \u001b[1;32mimport\u001b[0m \u001b[0mconfusion_matrix\u001b[0m\u001b[1;33m,\u001b[0m \u001b[0maccuracy_score\u001b[0m\u001b[1;33m\u001b[0m\u001b[1;33m\u001b[0m\u001b[0m\n\u001b[0;32m     53\u001b[0m \u001b[1;33m\u001b[0m\u001b[0m\n",
      "\u001b[1;31mModuleNotFoundError\u001b[0m: No module named 'lightgbm'"
     ]
    }
   ],
   "source": [
    "from tensorflow.keras.models import Sequential\n",
    "from tensorflow.keras.layers import Dense\n",
    "from imblearn.over_sampling import SMOTE\n",
    "import numpy as np\n",
    "\n",
    "# Assuming 'X_train', 'y_train', 'X_val', 'y_val' contain the features and labels for the classification task\n",
    "# Assuming the number of classes is 4 (since there are four classes)\n",
    "\n",
    "# One-hot encode the class labels for training and validation data\n",
    "num_classes = 4\n",
    "\n",
    "# Create the SMOTE object\n",
    "smote = SMOTE(random_state=42)\n",
    "\n",
    "# Apply SMOTE to the training data only (not the validation data)\n",
    "X_train_resampled, y_train_resampled = smote.fit_resample(X_res, y_train_encoded)\n",
    "\n",
    "# Create the model\n",
    "classification_model = Sequential()\n",
    "classification_model.add(Dense(128, activation='relu', input_shape=(54,)))\n",
    "classification_model.add(Dense(64, activation='relu'))\n",
    "classification_model.add(Dense(num_classes, activation='softmax'))  # 'softmax' activation for multi-class output layer\n",
    "\n",
    "# Compile the model\n",
    "classification_model.compile(loss='categorical_crossentropy', optimizer='adam', metrics=['accuracy'])\n",
    "\n",
    "# Train the model with resampled data\n",
    "classification_model.fit(X_train_resampled, y_train_resampled, epochs=10, batch_size=32, validation_data=(x_test, y_test_encoded))\n",
    "\n",
    "import xgboost as xgb\n",
    "from sklearn.metrics import confusion_matrix, accuracy_score\n",
    "\n",
    "# Create an XGBoost classifier\n",
    "xgb_classifier = xgb.XGBClassifier()\n",
    "\n",
    "# Train the XGBoost classifier on the training data\n",
    "xgb_classifier.fit(x_train, y_train)\n",
    "\n",
    "# Make predictions on the test data\n",
    "predictions = xgb_classifier.predict(x_test)\n",
    "\n",
    "# Calculate the confusion matrix\n",
    "cf = confusion_matrix(y_test, predictions)\n",
    "print(cf)\n",
    "\n",
    "# Calculate the accuracy score\n",
    "acc = accuracy_score(y_test, predictions)\n",
    "print(\"Accuracy:\", acc)\n",
    "\n",
    "\n",
    "import lightgbm as lgb\n",
    "from sklearn.metrics import confusion_matrix, accuracy_score\n",
    "\n",
    "# Create a LightGBM classifier\n",
    "lgb_classifier = lgb.LGBMClassifier()\n",
    "\n",
    "# Train the LightGBM classifier on the training data\n",
    "lgb_classifier.fit(x_train, y_train)\n",
    "\n",
    "# Make predictions on the test data\n",
    "predictions = lgb_classifier.predict(x_test)\n",
    "\n",
    "# Calculate the confusion matrix\n",
    "cf = confusion_matrix(y_test, predictions)\n",
    "print(cf)\n",
    "\n",
    "# Calculate the accuracy score\n",
    "acc = accuracy_score(y_test, predictions)\n",
    "print(\"Accuracy:\", acc)\n"
   ]
  },
  {
   "cell_type": "markdown",
   "id": "44de071a",
   "metadata": {},
   "source": [
    "<h1>Recurrent Neural Networks (RNNs) and Long Short-Term Memory networks (LSTMs)</h1>"
   ]
  },
  {
   "cell_type": "code",
   "execution_count": 13,
   "id": "9ae52dee",
   "metadata": {},
   "outputs": [
    {
     "name": "stdout",
     "output_type": "stream",
     "text": [
      "Requirement already satisfied: torch in c:\\users\\h.a.r\\anaconda3\\lib\\site-packages (2.0.1)\n",
      "Requirement already satisfied: filelock in c:\\users\\h.a.r\\anaconda3\\lib\\site-packages (from torch) (3.6.0)\n",
      "Requirement already satisfied: typing-extensions in c:\\users\\h.a.r\\anaconda3\\lib\\site-packages (from torch) (4.3.0)\n",
      "Requirement already satisfied: networkx in c:\\users\\h.a.r\\anaconda3\\lib\\site-packages (from torch) (2.8.4)\n",
      "Requirement already satisfied: sympy in c:\\users\\h.a.r\\anaconda3\\lib\\site-packages (from torch) (1.10.1)\n",
      "Requirement already satisfied: jinja2 in c:\\users\\h.a.r\\anaconda3\\lib\\site-packages (from torch) (2.11.3)\n",
      "Requirement already satisfied: MarkupSafe>=0.23 in c:\\users\\h.a.r\\anaconda3\\lib\\site-packages (from jinja2->torch) (2.0.1)\n",
      "Requirement already satisfied: mpmath>=0.19 in c:\\users\\h.a.r\\anaconda3\\lib\\site-packages (from sympy->torch) (1.2.1)\n",
      "Note: you may need to restart the kernel to use updated packages.\n"
     ]
    }
   ],
   "source": [
    "pip install torch"
   ]
  },
  {
   "cell_type": "code",
   "execution_count": 14,
   "id": "3ce8bb60",
   "metadata": {},
   "outputs": [],
   "source": [
    "import pandas as pd\n",
    "import numpy as np\n",
    "import torch\n",
    "import torch.nn as nn\n",
    "from torch.utils.data import DataLoader, TensorDataset\n",
    "from sklearn.model_selection import train_test_split\n",
    "from sklearn.preprocessing import StandardScaler\n",
    "from sklearn.metrics import accuracy_score"
   ]
  },
  {
   "cell_type": "code",
   "execution_count": 29,
   "id": "b485e095",
   "metadata": {},
   "outputs": [],
   "source": [
    "# Load the CSV dataset into a DataFrame\n",
    "data = pd.read_csv('Obfuscated-MalMem2022-classification.csv')"
   ]
  },
  {
   "cell_type": "code",
   "execution_count": 30,
   "id": "ef3824fb",
   "metadata": {},
   "outputs": [
    {
     "name": "stderr",
     "output_type": "stream",
     "text": [
      "C:\\Users\\H.A.R\\anaconda3\\lib\\site-packages\\seaborn\\_decorators.py:36: FutureWarning: Pass the following variable as a keyword arg: x. From version 0.12, the only valid positional argument will be `data`, and passing other arguments without an explicit keyword will result in an error or misinterpretation.\n",
      "  warnings.warn(\n"
     ]
    },
    {
     "data": {
      "image/png": "[encoded data removed]",
      "text/plain": [
       "<Figure size 640x480 with 1 Axes>"
      ]
     },
     "metadata": {},
     "output_type": "display_data"
    }
   ],
   "source": [
    "from sklearn.preprocessing import LabelEncoder\n",
    "lab=LabelEncoder()\n",
    "data['category']=lab.fit_transform(data['Category'])\n",
    "data['class']=lab.fit_transform(data['Class'])\n",
    "data['family']=lab.fit_transform(data['Family'])\n",
    "\n",
    "data = data.drop(['Class'], axis=1)\n",
    "data = data.drop(['Category'], axis=1)\n",
    "data = data.drop(['Family'], axis=1)\n",
    "#dropping category and family\n",
    "data = data.drop(['family'], axis=1)\n",
    "#data = data.drop(['category'], axis=1)\n",
    "sn.countplot(data['category'])\n",
    "plt.show()"
   ]
  },
  {
   "cell_type": "code",
   "execution_count": 55,
   "id": "13cbd3e6",
   "metadata": {},
   "outputs": [
    {
     "data": {
      "text/plain": [
       "(43947, 57)"
      ]
     },
     "execution_count": 55,
     "metadata": {},
     "output_type": "execute_result"
    }
   ],
   "source": [
    "data.shape"
   ]
  },
  {
   "cell_type": "code",
   "execution_count": 31,
   "id": "c27f8ec5",
   "metadata": {},
   "outputs": [],
   "source": [
    "# Separate features and labels\n",
    "X = data.iloc[:, :-1].values\n",
    "y = data['category'].values\n",
    "# Split the dataset into train and test sets\n",
    "X_train, X_test, y_train, y_test = train_test_split(X, y, test_size=0.2, random_state=42)"
   ]
  },
  {
   "cell_type": "code",
   "execution_count": 57,
   "id": "028ee23f",
   "metadata": {},
   "outputs": [
    {
     "data": {
      "text/plain": [
       "(35157, 56)"
      ]
     },
     "execution_count": 57,
     "metadata": {},
     "output_type": "execute_result"
    }
   ],
   "source": [
    "X_train.shape"
   ]
  },
  {
   "cell_type": "code",
   "execution_count": 18,
   "id": "6c2a1574",
   "metadata": {},
   "outputs": [
    {
     "name": "stdout",
     "output_type": "stream",
     "text": [
      "Training target statistics: Counter({3: 11678, 0: 11678, 1: 11678, 2: 11678})\n",
      "Testing target statistics: Counter({0: 2971, 2: 1982, 1: 1949, 3: 1888})\n"
     ]
    }
   ],
   "source": [
    "from imblearn.over_sampling import RandomOverSampler\n",
    "from collections import Counter\n",
    "over_sampler = RandomOverSampler(random_state=42)\n",
    "X_train, y_train = over_sampler.fit_resample(X_train, y_train)\n",
    "print(f\"Training target statistics: {Counter(y_train)}\")\n",
    "print(f\"Testing target statistics: {Counter(y_test)}\")"
   ]
  },
  {
   "cell_type": "code",
   "execution_count": 19,
   "id": "1e7fb22d",
   "metadata": {},
   "outputs": [
    {
     "data": {
      "text/plain": [
       "(46712, 56)"
      ]
     },
     "execution_count": 19,
     "metadata": {},
     "output_type": "execute_result"
    }
   ],
   "source": [
    "X_train.shape"
   ]
  },
  {
   "cell_type": "code",
   "execution_count": 20,
   "id": "6f313c16",
   "metadata": {},
   "outputs": [],
   "source": [
    "from imblearn.over_sampling import SMOTE\n",
    "\n",
    "# Create the SMOTE object\n",
    "smote = SMOTE(random_state=42)\n",
    "\n",
    "# Apply SMOTE to the training data only (not the validation data)\n",
    "X_train, y_train = smote.fit_resample(X_train, y_train)"
   ]
  },
  {
   "cell_type": "code",
   "execution_count": 21,
   "id": "5c64dbff",
   "metadata": {},
   "outputs": [
    {
     "name": "stdout",
     "output_type": "stream",
     "text": [
      "Epoch [1/10], Loss: 0.2065\n",
      "Epoch [2/10], Loss: 0.0000\n",
      "Epoch [3/10], Loss: 33.7471\n",
      "Epoch [4/10], Loss: 0.0000\n",
      "Epoch [5/10], Loss: 0.0000\n",
      "Epoch [6/10], Loss: 0.0000\n",
      "Epoch [7/10], Loss: 0.0000\n",
      "Epoch [8/10], Loss: 0.0000\n",
      "Epoch [9/10], Loss: 0.0000\n",
      "Epoch [10/10], Loss: 0.0000\n",
      "Test Accuracy: 99.91%\n"
     ]
    }
   ],
   "source": [
    "# Standardize features\n",
    "scaler = StandardScaler()\n",
    "X_train = scaler.fit_transform(X_train)\n",
    "X_test = scaler.transform(X_test)\n",
    "\n",
    "# Convert data to PyTorch tensors\n",
    "X_train = torch.tensor(X_train, dtype=torch.float32)\n",
    "X_test = torch.tensor(X_test, dtype=torch.float32)\n",
    "y_train = torch.tensor(y_train, dtype=torch.long)\n",
    "y_test = torch.tensor(y_test, dtype=torch.long)\n",
    "\n",
    "# Create DataLoader for training and testing\n",
    "train_dataset = TensorDataset(X_train, y_train)\n",
    "test_dataset = TensorDataset(X_test, y_test)\n",
    "\n",
    "batch_size = 32\n",
    "train_loader = DataLoader(train_dataset, batch_size=batch_size, shuffle=True)\n",
    "test_loader = DataLoader(test_dataset, batch_size=batch_size, shuffle=False)\n",
    "\n",
    "# Define a simple MLP model for tabular data\n",
    "class MLPModel(nn.Module):\n",
    "    def __init__(self, input_size, hidden_size, num_classes):\n",
    "        super(MLPModel, self).__init__()\n",
    "        self.fc1 = nn.Linear(input_size, hidden_size)\n",
    "        self.relu = nn.ReLU()\n",
    "        self.fc2 = nn.Linear(hidden_size, num_classes)\n",
    "\n",
    "    def forward(self, x):\n",
    "        out = self.fc1(x)\n",
    "        out = self.relu(out)\n",
    "        out = self.fc2(out)\n",
    "        return out\n",
    "\n",
    "input_size = 56  # Number of features\n",
    "hidden_size = 128\n",
    "num_classes = 4  # Assuming binary classification\n",
    "learning_rate = 0.1\n",
    "num_epochs = 10\n",
    "\n",
    "model = MLPModel(input_size, hidden_size, num_classes)\n",
    "criterion = nn.CrossEntropyLoss()\n",
    "optimizer = torch.optim.Adam(model.parameters(), lr=learning_rate)\n",
    "\n",
    "# Training loop\n",
    "for epoch in range(num_epochs):\n",
    "    model.train()\n",
    "    for inputs, labels in train_loader:\n",
    "        optimizer.zero_grad()\n",
    "        outputs = model(inputs)\n",
    "        loss = criterion(outputs, labels)\n",
    "        loss.backward()\n",
    "        optimizer.step()\n",
    "    print(f'Epoch [{epoch + 1}/{num_epochs}], Loss: {loss.item():.4f}')\n",
    "\n",
    "# Evaluation\n",
    "def evaluate(model, loader):\n",
    "    model.eval()\n",
    "    correct = 0\n",
    "    total = 0\n",
    "    with torch.no_grad():\n",
    "        for inputs, labels in loader:\n",
    "            outputs = model(inputs)\n",
    "            _, predicted = torch.max(outputs.data, 1)\n",
    "            total += labels.size(0)\n",
    "            correct += (predicted == labels).sum().item()\n",
    "    accuracy = correct / total\n",
    "    return accuracy\n",
    "\n",
    "test_accuracy = evaluate(model, test_loader)\n",
    "print(f'Test Accuracy: {test_accuracy * 100:.2f}%')"
   ]
  }
 ],
 "metadata": {
  "kernelspec": {
   "display_name": "Python 3 (ipykernel)",
   "language": "python",
   "name": "python3"
  },
  "language_info": {
   "codemirror_mode": {
    "name": "ipython",
    "version": 3
   },
   "file_extension": ".py",
   "mimetype": "text/x-python",
   "name": "python",
   "nbconvert_exporter": "python",
   "pygments_lexer": "ipython3",
   "version": "3.9.13"
  }
 },
 "nbformat": 4,
 "nbformat_minor": 5
}
