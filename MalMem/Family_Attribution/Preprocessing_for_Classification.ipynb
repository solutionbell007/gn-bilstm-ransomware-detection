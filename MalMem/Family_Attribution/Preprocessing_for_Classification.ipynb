{
 "cells": [
  {
   "cell_type": "code",
   "execution_count": 1,
   "id": "2eea60ab",
   "metadata": {},
   "outputs": [],
   "source": [
    "import seaborn as sn\n",
    "import matplotlib.pyplot as plt\n",
    "import pandas as pd"
   ]
  },
  {
   "cell_type": "code",
   "execution_count": 2,
   "id": "a3eb0ae4",
   "metadata": {},
   "outputs": [],
   "source": [
    "data = pd.read_csv('Obfuscated-MalMem2022-v3.csv')"
   ]
  },
  {
   "cell_type": "code",
   "execution_count": 3,
   "id": "e04f5b83",
   "metadata": {},
   "outputs": [
    {
     "name": "stdout",
     "output_type": "stream",
     "text": [
      "Benign     29298\n",
      "Malware    29298\n",
      "Name: Class, dtype: int64\n"
     ]
    }
   ],
   "source": [
    "df = data\n",
    "# Count the number of benign and malicious files\n",
    "total_count = df['Class'].value_counts()\n",
    "\n",
    "# Print the total counts\n",
    "print(total_count)"
   ]
  },
  {
   "cell_type": "code",
   "execution_count": 8,
   "id": "6b1444fc",
   "metadata": {},
   "outputs": [],
   "source": [
    "# Separate the benign and malicious records\n",
    "benign_df = df[df['Class'] == 'Benign']\n",
    "malicious_df = df[df['Class'] == 'Malicious']\n",
    "\n",
    "# Calculate the number of benign records to remove (half of the total benign records)\n",
    "num_benign_to_remove = len(benign_df) // 2\n",
    "\n",
    "# Randomly select the indices of the benign records to remove\n",
    "indices_to_remove = benign_df.sample(num_benign_to_remove, random_state=42).index\n",
    "\n",
    "# Drop the selected benign records from the DataFrame\n",
    "df.drop(indices_to_remove, inplace=True)\n",
    "\n",
    "# Concatenate the remaining benign and malicious DataFrames\n",
    "final_df = pd.concat([df, malicious_df])\n",
    "\n",
    "# Shuffle the final DataFrame to mix benign and malicious records\n",
    "final_df = final_df.sample(frac=1, random_state=42)\n",
    "\n",
    "# Replace 'new_file_path.csv' with the path where you want to save the new CSV file\n",
    "new_file_path = 'Obfuscated-MalMem2022-classification.csv'\n",
    "\n",
    "# Save the modified DataFrame to a new CSV file\n",
    "final_df.to_csv(new_file_path, index=False)"
   ]
  }
 ],
 "metadata": {
  "kernelspec": {
   "display_name": "Python 3 (ipykernel)",
   "language": "python",
   "name": "python3"
  },
  "language_info": {
   "codemirror_mode": {
    "name": "ipython",
    "version": 3
   },
   "file_extension": ".py",
   "mimetype": "text/x-python",
   "name": "python",
   "nbconvert_exporter": "python",
   "pygments_lexer": "ipython3",
   "version": "3.9.12"
  }
 },
 "nbformat": 4,
 "nbformat_minor": 5
}
